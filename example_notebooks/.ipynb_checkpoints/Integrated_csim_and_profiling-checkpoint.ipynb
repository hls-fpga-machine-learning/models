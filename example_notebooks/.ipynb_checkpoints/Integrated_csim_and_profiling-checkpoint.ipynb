{
 "cells": [
  {
   "cell_type": "markdown",
   "metadata": {},
   "source": [
    "# Example codes for using integrated C simulation and profiling tools."
   ]
  },
  {
   "cell_type": "code",
   "execution_count": 1,
   "metadata": {},
   "outputs": [],
   "source": [
    "import numpy as np\n",
    "import time\n",
    "from tensorflow import keras\n",
    "import yaml\n",
    "import hls4ml"
   ]
  },
  {
   "cell_type": "markdown",
   "metadata": {},
   "source": [
    "## 1. Integrated Csim"
   ]
  },
  {
   "cell_type": "code",
   "execution_count": 2,
   "metadata": {},
   "outputs": [],
   "source": [
    "#Input data\n",
    "X = np.load(\"conv-model/X_sim.npy\")\n",
    "\n",
    "#Load keras model\n",
    "keras_model = keras.models.load_model(\"conv-model/Conv1d-85.h5\")"
   ]
  },
  {
   "cell_type": "code",
   "execution_count": 7,
   "metadata": {},
   "outputs": [
    {
     "name": "stderr",
     "output_type": "stream",
     "text": [
      "/Users/duc_hoang/anaconda3/lib/python3.7/site-packages/ipykernel_launcher.py:3: YAMLLoadWarning: calling yaml.load() without Loader=... is deprecated, as the default Loader is unsafe. Please read https://msg.pyyaml.org/load for full details.\n",
      "  This is separate from the ipykernel package so we can avoid doing imports until\n"
     ]
    },
    {
     "name": "stdout",
     "output_type": "stream",
     "text": [
      "Interpreting Sequential\n",
      "Input shape: [128, 2]\n",
      "Topology:\n",
      "Layer name: conv1, layer type: Conv1D, current shape: [None, 126, 128]\n",
      "Layer name: conv2, layer type: Conv1D, current shape: [None, 124, 128]\n",
      "Layer name: max_pooling1d, layer type: MaxPooling1D, current shape: [None, 62, 128]\n",
      "Layer name: conv3, layer type: Conv1D, current shape: [None, 60, 64]\n",
      "Layer name: conv4, layer type: Conv1D, current shape: [None, 58, 64]\n",
      "Layer name: conv5, layer type: Conv1D, current shape: [None, 56, 32]\n",
      "Layer name: conv6, layer type: Conv1D, current shape: [None, 54, 32]\n",
      "Layer name: max_pooling1d_1, layer type: MaxPooling1D, current shape: [None, 27, 32]\n",
      "Layer name: dense1, layer type: Dense, current shape: [None, 128]\n",
      "Layer name: dense2, layer type: Dense, current shape: [None, 11]\n",
      "Layer name: activation, layer type: Activation, current shape: [None, 11]\n",
      "Creating HLS model\n",
      "WARNING: Invalid ReuseFactor=16 with \"Resource\" strategy in layer \"Vivado\". Using ReuseFactor=12 instead. Valid ReuseFactor(s): 2,3,6,12,24,48,96,192,384.\n",
      "Writing HLS project\n",
      "Done\n"
     ]
    }
   ],
   "source": [
    "#Read config file for hls model\n",
    "with open(\"conv-model/config-conv.yml\", 'r') as ymlfile:\n",
    "    config = yaml.load(ymlfile)\n",
    "\n",
    "#Create hls model using conversion tool\n",
    "from hls4ml.converters import keras_to_hls\n",
    "hls_model = keras_to_hls(config)\n",
    "\n",
    "hls_model.compile()"
   ]
  },
  {
   "cell_type": "code",
   "execution_count": 8,
   "metadata": {},
   "outputs": [
    {
     "name": "stdout",
     "output_type": "stream",
     "text": [
      "0.5369260311126709\n"
     ]
    }
   ],
   "source": [
    "#Use predict from keras\n",
    "start = time.time()\n",
    "a = keras_model.predict(X)\n",
    "end = time.time()\n",
    "print(end - start)"
   ]
  },
  {
   "cell_type": "code",
   "execution_count": 9,
   "metadata": {},
   "outputs": [
    {
     "name": "stdout",
     "output_type": "stream",
     "text": [
      "19.770883798599243\n"
     ]
    }
   ],
   "source": [
    "#Use predict from hls4ml for hls_model\n",
    "#API is exactly the same\n",
    "start = time.time()\n",
    "a = hls_model.predict(X)\n",
    "end = time.time()\n",
    "print(end - start)"
   ]
  },
  {
   "cell_type": "markdown",
   "metadata": {},
   "source": [
    "**Still slower than keras_model, but significantly faster than using C simulation from Vivado, which takes about ~ 30mins hours to run this.** "
   ]
  },
  {
   "cell_type": "markdown",
   "metadata": {},
   "source": [
    "## 2. Profiling: Layer-by-layer output comparison"
   ]
  },
  {
   "cell_type": "markdown",
   "metadata": {},
   "source": [
    "**hls4ml supports tracing outputs for each layer of keras model and hls model. You can also visualize the difference using our tool.**"
   ]
  },
  {
   "cell_type": "code",
   "execution_count": 15,
   "metadata": {},
   "outputs": [
    {
     "name": "stdout",
     "output_type": "stream",
     "text": [
      "Processing conv1 in Keras model...\n",
      "Processing conv2 in Keras model...\n",
      "Processing max_pooling1d in Keras model...\n",
      "Processing conv3 in Keras model...\n",
      "Processing conv4 in Keras model...\n",
      "Processing dropout in Keras model...\n",
      "Processing conv5 in Keras model...\n",
      "Processing conv6 in Keras model...\n",
      "Processing dropout_1 in Keras model...\n",
      "Processing max_pooling1d_1 in Keras model...\n",
      "Processing flatten in Keras model...\n",
      "Processing dense1 in Keras model...\n",
      "Processing dense2 in Keras model...\n",
      "Processing activation in Keras model...\n",
      "Done taking outputs for Keras model.\n"
     ]
    }
   ],
   "source": [
    "#Tracing outputs for keras model\n",
    "from hls4ml.model.profiling import get_ymodel_keras\n",
    "\n",
    "keras_outputs = get_ymodel_keras(keras_model, X)"
   ]
  },
  {
   "cell_type": "code",
   "execution_count": 14,
   "metadata": {},
   "outputs": [
    {
     "name": "stdout",
     "output_type": "stream",
     "text": [
      "Recompiling myproject with tracing\n",
      "Writing HLS project\n",
      "Done\n",
      "<class 'dict'>\n",
      "dict_keys(['conv1', 'conv1_relu', 'conv2', 'conv2_relu', 'max_pooling1d', 'conv3', 'conv3_relu', 'conv4', 'conv4_relu', 'conv5', 'conv5_relu', 'conv6', 'conv6_relu', 'max_pooling1d_1', 'dense1', 'dense1_relu', 'dense2', 'activation'])\n",
      "<class 'dict'>\n",
      "dict_keys(['conv1', 'conv1_relu', 'conv2', 'conv2_relu', 'max_pooling1d', 'conv3', 'conv3_relu', 'conv4', 'conv4_relu', 'conv5', 'conv5_relu', 'conv6', 'conv6_relu', 'max_pooling1d_1', 'dense1', 'dense1_relu', 'dense2', 'activation'])\n"
     ]
    }
   ],
   "source": [
    "#Tracing outputs for hls model\n",
    "_, hls_outputs = hls_model.trace(X)\n",
    "\n",
    "#Both outputs have the same formats\n",
    "print(type(keras_outputs))\n",
    "print(keras_outputs.keys())\n",
    "print(type(hls_outputs))\n",
    "print(hls_outputs.keys())"
   ]
  },
  {
   "cell_type": "code",
   "execution_count": 17,
   "metadata": {},
   "outputs": [
    {
     "name": "stdout",
     "output_type": "stream",
     "text": [
      "Help on function compare in module hls4ml.model.profiling:\n",
      "\n",
      "compare(keras_model, hls_model, X, plot_type='dist_diff')\n",
      "    Compare each layer's output in keras and hls model. Note that the hls_model should not be compiled before using this.\n",
      "    Params:\n",
      "    ------\n",
      "    keras_model : original keras model\n",
      "    hls_model : converted HLS model, with \"Trace:True\" in the configuration file.\n",
      "    X: numpy array, input for the model. \n",
      "    plot_type : (string) different methods to visualize the y_model and y_sim differences.\n",
      "                Possible options include:\n",
      "                     - \"norm_diff\" : square root of the sum of the squares of the differences \n",
      "                                    between each output vectors \n",
      "                     - \"dist_diff\" : The normalized distribution of the differences of the elements\n",
      "                                    between two output vectors\n",
      "        \n",
      "    Return:\n",
      "    ------\n",
      "        plot object of the histogram depicting the difference in each layer's ouput\n",
      "\n"
     ]
    }
   ],
   "source": [
    "#Visualize the difference between the each layer's output\n",
    "from hls4ml.model.profiling import compare\n",
    "\n",
    "help(compare)"
   ]
  },
  {
   "cell_type": "code",
   "execution_count": 18,
   "metadata": {},
   "outputs": [
    {
     "name": "stdout",
     "output_type": "stream",
     "text": [
      "Processing conv1 in Keras model...\n",
      "Processing conv2 in Keras model...\n",
      "Processing max_pooling1d in Keras model...\n",
      "Processing conv3 in Keras model...\n",
      "Processing conv4 in Keras model...\n",
      "Processing dropout in Keras model...\n",
      "Processing conv5 in Keras model...\n",
      "Processing conv6 in Keras model...\n",
      "Processing dropout_1 in Keras model...\n",
      "Processing max_pooling1d_1 in Keras model...\n",
      "Processing flatten in Keras model...\n",
      "Processing dense1 in Keras model...\n",
      "Processing dense2 in Keras model...\n",
      "Processing activation in Keras model...\n",
      "Done taking outputs for Keras model.\n",
      "Recompiling myproject with tracing\n",
      "Writing HLS project\n",
      "Done\n",
      "Plotting difference...\n"
     ]
    },
    {
     "data": {
      "text/plain": [
       "<Figure size 432x288 with 0 Axes>"
      ]
     },
     "metadata": {},
     "output_type": "display_data"
    },
    {
     "data": {
      "image/png": "[encoded data removed]",
      "text/plain": [
       "<Figure size 432x288 with 1 Axes>"
      ]
     },
     "metadata": {
      "needs_background": "light"
     },
     "output_type": "display_data"
    }
   ],
   "source": [
    "#\"norm_diff\"\n",
    "fig1 = compare(keras_model, hls_model, X, plot_type=\"norm_diff\")"
   ]
  },
  {
   "cell_type": "code",
   "execution_count": 19,
   "metadata": {},
   "outputs": [
    {
     "name": "stdout",
     "output_type": "stream",
     "text": [
      "Processing conv1 in Keras model...\n",
      "Processing conv2 in Keras model...\n",
      "Processing max_pooling1d in Keras model...\n",
      "Processing conv3 in Keras model...\n",
      "Processing conv4 in Keras model...\n",
      "Processing dropout in Keras model...\n",
      "Processing conv5 in Keras model...\n",
      "Processing conv6 in Keras model...\n",
      "Processing dropout_1 in Keras model...\n",
      "Processing max_pooling1d_1 in Keras model...\n",
      "Processing flatten in Keras model...\n",
      "Processing dense1 in Keras model...\n",
      "Processing dense2 in Keras model...\n",
      "Processing activation in Keras model...\n",
      "Done taking outputs for Keras model.\n",
      "Recompiling myproject with tracing\n",
      "Writing HLS project\n",
      "Done\n",
      "Plotting difference...\n"
     ]
    },
    {
     "data": {
      "text/plain": [
       "<Figure size 432x288 with 0 Axes>"
      ]
     },
     "metadata": {},
     "output_type": "display_data"
    },
    {
     "data": {
      "image/png": "[encoded data removed]",
      "text/plain": [
       "<Figure size 432x288 with 1 Axes>"
      ]
     },
     "metadata": {
      "needs_background": "light"
     },
     "output_type": "display_data"
    }
   ],
   "source": [
    "#\"dist_diff\"\n",
    "fig2 = compare(keras_model, hls_model, X, plot_type=\"dist_diff\")"
   ]
  },
  {
   "cell_type": "code",
   "execution_count": null,
   "metadata": {},
   "outputs": [],
   "source": []
  }
 ],
 "metadata": {
  "kernelspec": {
   "display_name": "Python 3",
   "language": "python",
   "name": "python3"
  },
  "language_info": {
   "codemirror_mode": {
    "name": "ipython",
    "version": 3
   },
   "file_extension": ".py",
   "mimetype": "text/x-python",
   "name": "python",
   "nbconvert_exporter": "python",
   "pygments_lexer": "ipython3",
   "version": "3.7.3"
  }
 },
 "nbformat": 4,
 "nbformat_minor": 2
}
